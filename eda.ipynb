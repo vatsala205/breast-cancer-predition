
{
 "cells": [
  {
   "cell_type": "code",
   "execution_count": null,
   "metadata": {},
   "outputs": [],
   "source": [
    "import pandas as pd\n",
    "import matplotlib.pyplot as plt\n",
    "import seaborn as sns\n",
    "from data.load_data import get_data\n",
    "\n",
    "X, y = get_data()\n",
    "\n",
    "print(X.head())\n",
    "print(y.value_counts())\n",
    "\n",
    "sns.countplot(x=y)\n",
    "plt.title('Distribution of Target (0 = Malignant, 1 = Benign)')\n",
    "plt.show()\n",
    "\n",
    "corr = X.corr()\n",
    "plt.figure(figsize=(12,10))\n",
    "sns.heatmap(corr, cmap='coolwarm')\n",
    "plt.title('Feature Correlation Heatmap')\n",
    "plt.show()"
   ]
  }
 ],
 "metadata": {},
 "nbformat": 4,
 "nbformat_minor": 5
}
